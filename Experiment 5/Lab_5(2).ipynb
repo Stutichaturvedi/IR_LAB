{
 "cells": [
  {
   "cell_type": "code",
   "execution_count": 7,
   "id": "c47961de",
   "metadata": {},
   "outputs": [
    {
     "name": "stdout",
     "output_type": "stream",
     "text": [
      "              precision    recall  f1-score   support\n",
      "\n",
      "           0       0.77      0.50      0.60       319\n",
      "           1       0.48      0.93      0.63       389\n",
      "           2       0.81      0.58      0.67       396\n",
      "           3       0.60      0.76      0.67       398\n",
      "           4       0.72      0.77      0.75       364\n",
      "           5       0.96      0.70      0.81       376\n",
      "           6       0.72      0.54      0.62       310\n",
      "           7       0.61      0.39      0.47       251\n",
      "\n",
      "    accuracy                           0.66      2803\n",
      "   macro avg       0.71      0.65      0.65      2803\n",
      "weighted avg       0.71      0.66      0.66      2803\n",
      "\n"
     ]
    }
   ],
   "source": [
    "from sklearn.neighbors import NearestCentroid\n",
    "from sklearn.pipeline import Pipeline\n",
    "from sklearn import metrics\n",
    "from sklearn.feature_extraction.text import CountVectorizer\n",
    "from sklearn.feature_extraction.text import TfidfTransformer\n",
    "from sklearn.datasets import fetch_20newsgroups\n",
    "categories=['alt.atheism','soc.religion.christian','comp.graphics','sci.med','talk.politics.guns',\n",
    " 'talk.politics.mideast',\n",
    " 'talk.politics.misc',\n",
    " 'talk.religion.misc']\n",
    "news_train=fetch_20newsgroups(subset='train',categories=categories,shuffle=True)\n",
    "news_test=fetch_20newsgroups(subset='test',categories=categories,shuffle=True)\n",
    "#newsgroups_train = fetch_20newsgroups(subset='train')\n",
    "#newsgroups_test = fetch_20newsgroups(subset='test')\n",
    "X_train = news_train.data\n",
    "X_test = news_test.data\n",
    "y_train = news_train.target\n",
    "y_test = news_test.target\n",
    "\n",
    "text_clf = Pipeline([('vect', CountVectorizer()),\n",
    "                     ('tfidf', TfidfTransformer()),\n",
    "                     ('clf', NearestCentroid()),\n",
    "                     ])\n",
    "\n",
    "text_clf.fit(X_train, y_train)\n",
    "\n",
    "\n",
    "predicted = text_clf.predict(X_test)\n",
    "\n",
    "print(metrics.classification_report(y_test, predicted))"
   ]
  },
  {
   "cell_type": "code",
   "execution_count": null,
   "id": "4b5229d2",
   "metadata": {},
   "outputs": [],
   "source": []
  },
  {
   "cell_type": "code",
   "execution_count": null,
   "id": "8ae2a626",
   "metadata": {},
   "outputs": [],
   "source": []
  }
 ],
 "metadata": {
  "kernelspec": {
   "display_name": "Python 3 (ipykernel)",
   "language": "python",
   "name": "python3"
  },
  "language_info": {
   "codemirror_mode": {
    "name": "ipython",
    "version": 3
   },
   "file_extension": ".py",
   "mimetype": "text/x-python",
   "name": "python",
   "nbconvert_exporter": "python",
   "pygments_lexer": "ipython3",
   "version": "3.9.7"
  }
 },
 "nbformat": 4,
 "nbformat_minor": 5
}

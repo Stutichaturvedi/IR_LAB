{
  "cells": [
    {
      "cell_type": "code",
      "source": [
        "!pip install ndjson"
      ],
      "metadata": {
        "colab": {
          "base_uri": "https://localhost:8080/"
        },
        "id": "Qy_X1G4gPHDY",
        "outputId": "7a46c2f9-8795-4100-b71d-a9dc2705f9aa"
      },
      "execution_count": null,
      "outputs": [
        {
          "output_type": "stream",
          "name": "stdout",
          "text": [
            "Requirement already satisfied: ndjson in /usr/local/lib/python3.7/dist-packages (0.3.1)\n"
          ]
        }
      ]
    },
    {
      "cell_type": "code",
      "execution_count": null,
      "metadata": {
        "collapsed": true,
        "id": "JK5a-x6ebKj8"
      },
      "outputs": [],
      "source": [
        "import numpy as np\n",
        "import ndjson\n",
        "from sklearn.feature_extraction.text import CountVectorizer\n",
        "from numpy.linalg import svd"
      ]
    },
    {
      "cell_type": "code",
      "source": [
        "f = open('/content/drive/MyDrive/cran_experiment.ndjson')\n",
        "file = ndjson.reader(f)\n",
        "#corpus\n",
        "corpus = [d['title'] for d in file]"
      ],
      "metadata": {
        "id": "zAaG6wNbR1S6"
      },
      "execution_count": null,
      "outputs": []
    },
    {
      "cell_type": "code",
      "source": [
        "from google.colab import drive\n",
        "drive.mount('/content/drive')"
      ],
      "metadata": {
        "colab": {
          "base_uri": "https://localhost:8080/"
        },
        "id": "z_LxUn3zYzdp",
        "outputId": "ac42f996-88c5-4c7f-91b4-5938d35e09d5"
      },
      "execution_count": null,
      "outputs": [
        {
          "output_type": "stream",
          "name": "stdout",
          "text": [
            "Drive already mounted at /content/drive; to attempt to forcibly remount, call drive.mount(\"/content/drive\", force_remount=True).\n"
          ]
        }
      ]
    },
    {
      "cell_type": "code",
      "execution_count": null,
      "metadata": {
        "collapsed": true,
        "id": "VZzZc1pEbKkD"
      },
      "outputs": [],
      "source": [
        "#query to be searched\n",
        "query = ['transient heat conduction into a double-layer']"
      ]
    },
    {
      "cell_type": "code",
      "execution_count": null,
      "metadata": {
        "colab": {
          "base_uri": "https://localhost:8080/"
        },
        "id": "FqubTBhGbKkF",
        "outputId": "d3d3661f-c69a-47c2-8105-ed2a99639742"
      },
      "outputs": [
        {
          "output_type": "execute_result",
          "data": {
            "text/plain": [
              "array(['000', '01', '02', ..., 'zero', 'zone', 'zoom'], dtype=object)"
            ]
          },
          "metadata": {},
          "execution_count": 47
        }
      ],
      "source": [
        "vectorizer = CountVectorizer()\n",
        "td = vectorizer.fit_transform(corpus)\n",
        "\n",
        "vectorizer.get_feature_names_out()  #vocabulry in ascending order"
      ]
    },
    {
      "cell_type": "code",
      "execution_count": null,
      "metadata": {
        "colab": {
          "base_uri": "https://localhost:8080/"
        },
        "id": "4JU7Y419bKkH",
        "outputId": "4709234b-6cb7-431d-ce94-d73444a28cff"
      },
      "outputs": [
        {
          "output_type": "stream",
          "name": "stdout",
          "text": [
            "Term-document matrix\n",
            " [[0 0 0 ... 0 0 0]\n",
            " [0 0 0 ... 0 0 0]\n",
            " [0 0 0 ... 0 0 0]\n",
            " ...\n",
            " [0 0 0 ... 0 0 0]\n",
            " [0 0 0 ... 0 0 0]\n",
            " [0 0 0 ... 0 0 0]]\n"
          ]
        }
      ],
      "source": [
        "td_mat = td.T.toarray()\n",
        "print(\"Term-document matrix\\n\", td_mat)"
      ]
    },
    {
      "cell_type": "code",
      "execution_count": null,
      "metadata": {
        "collapsed": true,
        "id": "FP6ngz2zbKkI"
      },
      "outputs": [],
      "source": [
        "#SVD of the Term-Document matrix\n",
        "[u,s,vt] = svd(td_mat,False)"
      ]
    },
    {
      "cell_type": "code",
      "execution_count": null,
      "metadata": {
        "id": "6X8e4IJsbKkI",
        "colab": {
          "base_uri": "https://localhost:8080/"
        },
        "outputId": "dfb2ec5d-30a7-407c-d7de-a6a04d56a849"
      },
      "outputs": [
        {
          "output_type": "stream",
          "name": "stdout",
          "text": [
            "[[0 0 0 ... 0 0 0]]\n"
          ]
        }
      ],
      "source": [
        "#Transforming the query into a vector\n",
        "q = vectorizer.transform(query)\n",
        "q = q.toarray()\n",
        "print(q)"
      ]
    },
    {
      "cell_type": "code",
      "execution_count": null,
      "metadata": {
        "id": "mL8fYTd0bKkK",
        "colab": {
          "base_uri": "https://localhost:8080/"
        },
        "outputId": "b8331801-6ece-4d73-d2a9-bc1e8b887d03"
      },
      "outputs": [
        {
          "output_type": "stream",
          "name": "stdout",
          "text": [
            "[[-1.98927620e-03 -9.28967961e-03  9.85087716e-03 ...  3.76029641e+12\n",
            "  -2.99942699e+11  5.61055170e+12]]\n"
          ]
        }
      ],
      "source": [
        "#Finding the new query vector\n",
        "q = np.matmul(np.matmul(q,u),np.linalg.inv(np.diag(s)))\n",
        "print(q)"
      ]
    },
    {
      "cell_type": "code",
      "execution_count": null,
      "metadata": {
        "id": "yrym4igEbKkL"
      },
      "outputs": [],
      "source": [
        "#finding the most similar document for the query vector by taking the dot product between query and \n",
        "#each column in the vt matrix and normalize them\n",
        "similarities = []\n",
        "for i in range(len(vt)):\n",
        "    similarities.append(list(np.dot(q,vt[:,i])/(np.linalg.norm(q)*np.linalg.norm(vt[:,i])))[0])\n",
        "\n",
        "print('Most similar document:')\n",
        "idx = similarities.index(max(similarities))\n",
        "corpus[idx]"
      ]
    }
  ],
  "metadata": {
    "kernelspec": {
      "display_name": "Python 3",
      "language": "python",
      "name": "python3"
    },
    "language_info": {
      "codemirror_mode": {
        "name": "ipython",
        "version": 3
      },
      "file_extension": ".py",
      "mimetype": "text/x-python",
      "name": "python",
      "nbconvert_exporter": "python",
      "pygments_lexer": "ipython3",
      "version": "3.5.2"
    },
    "colab": {
      "name": "Lab_6.ipynb",
      "provenance": []
    }
  },
  "nbformat": 4,
  "nbformat_minor": 0
}
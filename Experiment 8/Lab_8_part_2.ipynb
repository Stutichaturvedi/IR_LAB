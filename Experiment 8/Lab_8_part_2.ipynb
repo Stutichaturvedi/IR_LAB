{
  "nbformat": 4,
  "nbformat_minor": 0,
  "metadata": {
    "colab": {
      "name": "Lab_8 part 2.ipynb",
      "provenance": [],
      "collapsed_sections": []
    },
    "kernelspec": {
      "name": "python3",
      "display_name": "Python 3"
    },
    "language_info": {
      "name": "python"
    }
  },
  "cells": [
    {
      "cell_type": "code",
      "execution_count": null,
      "metadata": {
        "id": "qNRRwPxAObio"
      },
      "outputs": [],
      "source": [
        "from sklearn.datasets import fetch_20newsgroups\n",
        "from sklearn.feature_extraction.text import CountVectorizer\n",
        "from sklearn.feature_extraction.text import TfidfTransformer\n",
        "from sklearn.naive_bayes import MultinomialNB\n",
        "from sklearn.linear_model import SGDClassifier\n",
        "from sklearn.pipeline import Pipeline\n",
        "from sklearn import metrics\n",
        "import numpy as np\n",
        "\n",
        " \n",
        "    \n",
        "\n",
        "def SVM(categories):\n",
        "    \n",
        "    twenty_train = fetch_20newsgroups(subset='train',categories=categories, shuffle=True, random_state=42)\n",
        "\n",
        "    \n",
        "    text_clf = Pipeline([('vect', CountVectorizer()),('tfidf', TfidfTransformer()),('clf', SGDClassifier(loss='hinge', penalty='l2',alpha=1e-3, random_state=42))])\n",
        "    _ = text_clf.fit(twenty_train.data, twenty_train.target)\n",
        "\n",
        "    # evaluate on test set\n",
        "    twenty_test = fetch_20newsgroups(subset='test',categories=categories, shuffle=True, random_state=42)\n",
        "    predicted = text_clf.predict(twenty_test.data)\n",
        "    print(\"*** SVM Model ***\")\n",
        "    print(\"Newsgroup Categories : \", categories )\n",
        "    print(\"Accuracy : {}%\".format(np.mean(predicted == twenty_test.target)*100)) \n",
        "    print(metrics.classification_report(twenty_test.target, predicted, target_names=twenty_test.target_names))\n",
        "    print(\"Confusion Matrix : \\n\", metrics.confusion_matrix(twenty_test.target, predicted))\n",
        "\n",
        "    "
      ]
    },
    {
      "cell_type": "code",
      "source": [
        "categories=['sci.med','sci.space','sci.electronics']"
      ],
      "metadata": {
        "id": "a2SyrWSUo5Jg"
      },
      "execution_count": null,
      "outputs": []
    },
    {
      "cell_type": "code",
      "source": [
        "SVM(categories)"
      ],
      "metadata": {
        "colab": {
          "base_uri": "https://localhost:8080/"
        },
        "id": "hfhfkKSko-RI",
        "outputId": "ca9fc778-f72d-47e4-f649-db909f72868e"
      },
      "execution_count": null,
      "outputs": [
        {
          "output_type": "stream",
          "name": "stdout",
          "text": [
            "*** SVM Model ***\n",
            "Newsgroup Categories :  ['sci.med', 'sci.space', 'sci.electronics']\n",
            "Accuracy : 93.99830938292477%\n",
            "                 precision    recall  f1-score   support\n",
            "\n",
            "sci.electronics       0.89      0.97      0.93       393\n",
            "        sci.med       0.95      0.91      0.93       396\n",
            "      sci.space       0.98      0.94      0.96       394\n",
            "\n",
            "       accuracy                           0.94      1183\n",
            "      macro avg       0.94      0.94      0.94      1183\n",
            "   weighted avg       0.94      0.94      0.94      1183\n",
            "\n",
            "Confusion Matrix : \n",
            " [[381   9   3]\n",
            " [ 32 360   4]\n",
            " [ 13  10 371]]\n"
          ]
        }
      ]
    },
    {
      "cell_type": "code",
      "source": [
        ""
      ],
      "metadata": {
        "id": "W95P7VuRpAoX"
      },
      "execution_count": null,
      "outputs": []
    }
  ]
}